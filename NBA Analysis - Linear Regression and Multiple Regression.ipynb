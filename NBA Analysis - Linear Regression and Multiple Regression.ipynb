{
 "cells": [
  {
   "cell_type": "code",
   "execution_count": 1,
   "id": "d3b9dc73",
   "metadata": {},
   "outputs": [],
   "source": [
    "# Import necessary libraries\n",
    "\n",
    "import numpy as np\n",
    "import pandas as pd\n",
    "import scipy.stats as st\n",
    "import matplotlib.pyplot as plt\n",
    "from IPython.display import display, HTML"
   ]
  },
  {
   "cell_type": "code",
   "execution_count": 2,
   "id": "81fda5f3",
   "metadata": {},
   "outputs": [
    {
     "data": {
      "text/html": [
       "<table border=\"1\" class=\"dataframe\">\n",
       "  <thead>\n",
       "    <tr style=\"text-align: right;\">\n",
       "      <th></th>\n",
       "      <th>year_id</th>\n",
       "      <th>fran_id</th>\n",
       "      <th>avg_pts</th>\n",
       "      <th>avg_opp_pts</th>\n",
       "      <th>avg_elo_n</th>\n",
       "      <th>avg_opp_elo_n</th>\n",
       "      <th>avg_pts_differential</th>\n",
       "      <th>avg_elo_differential</th>\n",
       "      <th>total_wins</th>\n",
       "    </tr>\n",
       "  </thead>\n",
       "  <tbody>\n",
       "    <tr>\n",
       "      <th>0</th>\n",
       "      <td>1995</td>\n",
       "      <td>Bucks</td>\n",
       "      <td>99.341463</td>\n",
       "      <td>103.707317</td>\n",
       "      <td>1368.604789</td>\n",
       "      <td>1497.311587</td>\n",
       "      <td>-4.365854</td>\n",
       "      <td>-128.706798</td>\n",
       "      <td>34</td>\n",
       "    </tr>\n",
       "    <tr>\n",
       "      <th>1</th>\n",
       "      <td>1995</td>\n",
       "      <td>Bulls</td>\n",
       "      <td>101.524390</td>\n",
       "      <td>96.695122</td>\n",
       "      <td>1569.892129</td>\n",
       "      <td>1488.199352</td>\n",
       "      <td>4.829268</td>\n",
       "      <td>81.692777</td>\n",
       "      <td>47</td>\n",
       "    </tr>\n",
       "    <tr>\n",
       "      <th>2</th>\n",
       "      <td>1995</td>\n",
       "      <td>Cavaliers</td>\n",
       "      <td>90.451220</td>\n",
       "      <td>89.829268</td>\n",
       "      <td>1542.433391</td>\n",
       "      <td>1498.848261</td>\n",
       "      <td>0.621951</td>\n",
       "      <td>43.585130</td>\n",
       "      <td>43</td>\n",
       "    </tr>\n",
       "    <tr>\n",
       "      <th>3</th>\n",
       "      <td>1995</td>\n",
       "      <td>Celtics</td>\n",
       "      <td>102.780488</td>\n",
       "      <td>104.658537</td>\n",
       "      <td>1431.307532</td>\n",
       "      <td>1495.936224</td>\n",
       "      <td>-1.878049</td>\n",
       "      <td>-64.628693</td>\n",
       "      <td>35</td>\n",
       "    </tr>\n",
       "    <tr>\n",
       "      <th>4</th>\n",
       "      <td>1995</td>\n",
       "      <td>Clippers</td>\n",
       "      <td>96.670732</td>\n",
       "      <td>105.829268</td>\n",
       "      <td>1309.053701</td>\n",
       "      <td>1517.260260</td>\n",
       "      <td>-9.158537</td>\n",
       "      <td>-208.206558</td>\n",
       "      <td>17</td>\n",
       "    </tr>\n",
       "  </tbody>\n",
       "</table>"
      ],
      "text/plain": [
       "<IPython.core.display.HTML object>"
      ]
     },
     "metadata": {},
     "output_type": "display_data"
    },
    {
     "name": "stdout",
     "output_type": "stream",
     "text": [
      "Number of rows in the data set = 618\n"
     ]
    }
   ],
   "source": [
    "# Import data\n",
    "\n",
    "nba_df = pd.read_csv(r'C:\\Users\\abelg\\Documents\\Programs\\SQL\\SSMS\\SQL NBA analysis project\\NBAdatacleaned.csv')\n",
    "\n",
    "display(HTML(nba_df.head().to_html()))\n",
    "print(\"Number of rows in the data set =\", len(nba_df))"
   ]
  },
  {
   "cell_type": "code",
   "execution_count": 3,
   "id": "9d215ea5",
   "metadata": {},
   "outputs": [
    {
     "data": {
      "image/png": "[encoded data removed]",
      "text/plain": [
       "<Figure size 432x288 with 1 Axes>"
      ]
     },
     "metadata": {
      "needs_background": "light"
     },
     "output_type": "display_data"
    },
    {
     "name": "stdout",
     "output_type": "stream",
     "text": [
      "Correlation between Average Points Scored and the Total Number of Wins\n",
      "Pearson Correlation Coefficient = 0.4777\n",
      "P-value = 0.0\n"
     ]
    }
   ],
   "source": [
    "# Scatterplot and Correlation for Total Wins and Average Points\n",
    "\n",
    "import scipy.stats as st\n",
    "\n",
    "plt.plot(nba_df['avg_pts'], nba_df['total_wins'], 'o')\n",
    "\n",
    "plt.title('Total Number of Wins by Average Points Scored', fontsize=20)\n",
    "plt.xlabel('Average Points Scored')\n",
    "plt.ylabel('Total Number of Wins')\n",
    "plt.show()\n",
    "\n",
    "corr_coeff, p_value = st.pearsonr(nba_df['avg_pts'], nba_df['total_wins'])\n",
    "\n",
    "print(\"Correlation between Average Points Scored and the Total Number of Wins\")\n",
    "print(\"Pearson Correlation Coefficient =\", round(corr_coeff, 4))\n",
    "print(\"P-value =\", round(p_value, 4))"
   ]
  },
  {
   "cell_type": "code",
   "execution_count": 4,
   "id": "027eedcf",
   "metadata": {},
   "outputs": [
    {
     "name": "stdout",
     "output_type": "stream",
     "text": [
      "                            OLS Regression Results                            \n",
      "==============================================================================\n",
      "Dep. Variable:             total_wins   R-squared:                       0.228\n",
      "Model:                            OLS   Adj. R-squared:                  0.227\n",
      "Method:                 Least Squares   F-statistic:                     182.1\n",
      "Date:                Tue, 19 Jul 2022   Prob (F-statistic):           1.52e-36\n",
      "Time:                        20:01:07   Log-Likelihood:                -2385.4\n",
      "No. Observations:                 618   AIC:                             4775.\n",
      "Df Residuals:                     616   BIC:                             4784.\n",
      "Df Model:                           1                                         \n",
      "Covariance Type:            nonrobust                                         \n",
      "==============================================================================\n",
      "                 coef    std err          t      P>|t|      [0.025      0.975]\n",
      "------------------------------------------------------------------------------\n",
      "Intercept    -85.5476      9.305     -9.194      0.000    -103.820     -67.275\n",
      "avg_pts        1.2849      0.095     13.495      0.000       1.098       1.472\n",
      "==============================================================================\n",
      "Omnibus:                       24.401   Durbin-Watson:                   1.768\n",
      "Prob(Omnibus):                  0.000   Jarque-Bera (JB):               11.089\n",
      "Skew:                          -0.033   Prob(JB):                      0.00391\n",
      "Kurtosis:                       2.347   Cond. No.                     1.97e+03\n",
      "==============================================================================\n",
      "\n",
      "Notes:\n",
      "[1] Standard Errors assume that the covariance matrix of the errors is correctly specified.\n",
      "[2] The condition number is large, 1.97e+03. This might indicate that there are\n",
      "strong multicollinearity or other numerical problems.\n"
     ]
    }
   ],
   "source": [
    "# Simple Linear Regression\n",
    "\n",
    "import statsmodels.formula.api as smf\n",
    "\n",
    "model1 = smf.ols('total_wins ~ avg_pts', nba_df).fit()\n",
    "print(model1.summary())"
   ]
  },
  {
   "cell_type": "code",
   "execution_count": 5,
   "id": "885ce076",
   "metadata": {},
   "outputs": [],
   "source": [
    "# Given the F-statistic and P-value from the above calculations, it is safe to say that there is a positive correlation between\n",
    "# Total Wins and Average Points Scored\n",
    "# However, due to the low coefficient of determination (0.228), it is not a strong correlation."
   ]
  },
  {
   "cell_type": "code",
   "execution_count": 6,
   "id": "4fd64a55",
   "metadata": {},
   "outputs": [
    {
     "data": {
      "image/png": "[encoded data removed]",
      "text/plain": [
       "<Figure size 432x288 with 1 Axes>"
      ]
     },
     "metadata": {
      "needs_background": "light"
     },
     "output_type": "display_data"
    },
    {
     "name": "stdout",
     "output_type": "stream",
     "text": [
      "Correlation between ELO and Total Number of Wins\n",
      "Pearson Correlation Coefficient = 0.9072\n",
      "P-value = 0.0\n"
     ]
    }
   ],
   "source": [
    "# Scatterplot and Correlation for Total Wins and ELO\n",
    "\n",
    "plt.plot(nba_df['avg_elo_n'], nba_df['total_wins'], 'o')\n",
    "\n",
    "plt.title('Wins by ELO', fontsize=20)\n",
    "plt.xlabel('ELO')\n",
    "plt.ylabel('Total Number of Wins')\n",
    "plt.show()\n",
    "\n",
    "corr_coeff, p_value = st.pearsonr(nba_df['avg_elo_n'], nba_df['total_wins'])\n",
    "\n",
    "print(\"Correlation between ELO and Total Number of Wins\")\n",
    "print(\"Pearson Correlation Coefficient =\", round(corr_coeff, 4))\n",
    "print(\"P-value =\", round(p_value, 4))"
   ]
  },
  {
   "cell_type": "code",
   "execution_count": 7,
   "id": "d3ef4642",
   "metadata": {},
   "outputs": [
    {
     "name": "stdout",
     "output_type": "stream",
     "text": [
      "                            OLS Regression Results                            \n",
      "==============================================================================\n",
      "Dep. Variable:             total_wins   R-squared:                       0.837\n",
      "Model:                            OLS   Adj. R-squared:                  0.837\n",
      "Method:                 Least Squares   F-statistic:                     1580.\n",
      "Date:                Tue, 19 Jul 2022   Prob (F-statistic):          4.41e-243\n",
      "Time:                        20:15:32   Log-Likelihood:                -1904.6\n",
      "No. Observations:                 618   AIC:                             3815.\n",
      "Df Residuals:                     615   BIC:                             3829.\n",
      "Df Model:                           2                                         \n",
      "Covariance Type:            nonrobust                                         \n",
      "==============================================================================\n",
      "                 coef    std err          t      P>|t|      [0.025      0.975]\n",
      "------------------------------------------------------------------------------\n",
      "Intercept   -152.5736      4.500    -33.903      0.000    -161.411    -143.736\n",
      "avg_pts        0.3497      0.048      7.297      0.000       0.256       0.444\n",
      "avg_elo_n      0.1055      0.002     47.952      0.000       0.101       0.110\n",
      "==============================================================================\n",
      "Omnibus:                       89.087   Durbin-Watson:                   1.203\n",
      "Prob(Omnibus):                  0.000   Jarque-Bera (JB):              160.540\n",
      "Skew:                          -0.869   Prob(JB):                     1.38e-35\n",
      "Kurtosis:                       4.793   Cond. No.                     3.19e+04\n",
      "==============================================================================\n",
      "\n",
      "Notes:\n",
      "[1] Standard Errors assume that the covariance matrix of the errors is correctly specified.\n",
      "[2] The condition number is large, 3.19e+04. This might indicate that there are\n",
      "strong multicollinearity or other numerical problems.\n"
     ]
    }
   ],
   "source": [
    "# Multiple Regression\n",
    "# Predicting the Total Wins using Average Points Scored and ELO\n",
    "\n",
    "import statsmodels.formula.api as smf\n",
    "\n",
    "model2 = smf.ols('total_wins ~ avg_pts + avg_elo_n', nba_df).fit()\n",
    "print(model2.summary())"
   ]
  },
  {
   "cell_type": "code",
   "execution_count": 8,
   "id": "4195298d",
   "metadata": {},
   "outputs": [],
   "source": [
    "# Using Average Points AND Average ELO, our model becomes much more accurate\n",
    "# Each has a large T-statistic and P-values of zero which mean they are both statistically significant to the model\n",
    "# Also, the large coefficient of determination (0.837) means that there is a strong correlation"
   ]
  },
  {
   "cell_type": "code",
   "execution_count": 9,
   "id": "57c4e7ea",
   "metadata": {},
   "outputs": [
    {
     "name": "stdout",
     "output_type": "stream",
     "text": [
      "                            OLS Regression Results                            \n",
      "==============================================================================\n",
      "Dep. Variable:             total_wins   R-squared:                       0.876\n",
      "Model:                            OLS   Adj. R-squared:                  0.876\n",
      "Method:                 Least Squares   F-statistic:                     1449.\n",
      "Date:                Tue, 19 Jul 2022   Prob (F-statistic):          5.03e-278\n",
      "Time:                        20:24:09   Log-Likelihood:                -1819.8\n",
      "No. Observations:                 618   AIC:                             3648.\n",
      "Df Residuals:                     614   BIC:                             3665.\n",
      "Df Model:                           3                                         \n",
      "Covariance Type:            nonrobust                                         \n",
      "========================================================================================\n",
      "                           coef    std err          t      P>|t|      [0.025      0.975]\n",
      "----------------------------------------------------------------------------------------\n",
      "Intercept              -35.8921      9.252     -3.879      0.000     -54.062     -17.723\n",
      "avg_pts                  0.2406      0.043      5.657      0.000       0.157       0.324\n",
      "avg_elo_n                0.0348      0.005      6.421      0.000       0.024       0.045\n",
      "avg_pts_differential     1.7621      0.127     13.928      0.000       1.514       2.011\n",
      "==============================================================================\n",
      "Omnibus:                      181.805   Durbin-Watson:                   0.975\n",
      "Prob(Omnibus):                  0.000   Jarque-Bera (JB):              506.551\n",
      "Skew:                          -1.452   Prob(JB):                    1.01e-110\n",
      "Kurtosis:                       6.352   Cond. No.                     7.51e+04\n",
      "==============================================================================\n",
      "\n",
      "Notes:\n",
      "[1] Standard Errors assume that the covariance matrix of the errors is correctly specified.\n",
      "[2] The condition number is large, 7.51e+04. This might indicate that there are\n",
      "strong multicollinearity or other numerical problems.\n"
     ]
    }
   ],
   "source": [
    "# Multiple Regression with Three Variables\n",
    "# Predicting Total Wins using Average Points Scored, Average ELO, and Average Points Differential\n",
    "\n",
    "import statsmodels.formula.api as smf\n",
    "\n",
    "model3 = smf.ols('total_wins ~ avg_pts + avg_elo_n + avg_pts_differential', nba_df).fit()\n",
    "print(model3.summary())"
   ]
  },
  {
   "cell_type": "code",
   "execution_count": null,
   "id": "b8345143",
   "metadata": {},
   "outputs": [],
   "source": [
    "# This model also is a strong predictor of Total Wins"
   ]
  }
 ],
 "metadata": {
  "kernelspec": {
   "display_name": "Python 3 (ipykernel)",
   "language": "python",
   "name": "python3"
  },
  "language_info": {
   "codemirror_mode": {
    "name": "ipython",
    "version": 3
   },
   "file_extension": ".py",
   "mimetype": "text/x-python",
   "name": "python",
   "nbconvert_exporter": "python",
   "pygments_lexer": "ipython3",
   "version": "3.9.12"
  }
 },
 "nbformat": 4,
 "nbformat_minor": 5
}
