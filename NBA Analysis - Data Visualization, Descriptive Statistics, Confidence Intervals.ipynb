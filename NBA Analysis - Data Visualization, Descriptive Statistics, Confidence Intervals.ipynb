{
 "cells": [
  {
   "cell_type": "code",
   "execution_count": 1,
   "id": "53fb9e13",
   "metadata": {},
   "outputs": [],
   "source": [
    "# Import necessary libraries\n",
    "\n",
    "import numpy as np\n",
    "import pandas as pd\n",
    "import scipy.stats as st\n",
    "import matplotlib.pyplot as plt\n",
    "from IPython.display import display, HTML"
   ]
  },
  {
   "cell_type": "code",
   "execution_count": 2,
   "id": "67dbea75",
   "metadata": {},
   "outputs": [],
   "source": [
    "# Establish and format dataframe\n",
    "\n",
    "nba_orig_df = pd.read_csv(r'C:\\Users\\abelg\\Documents\\Programs\\SQL\\SSMS\\SQL NBA analysis project\\NBAdatacleaned.csv')\n",
    "columns_to_keep = ['year_id', 'fran_id', 'avg_pts', 'avg_opp_pts', 'avg_elo_n', 'avg_opp_elo_n']\n",
    "nba_orig_df = nba_orig_df[columns_to_keep]"
   ]
  },
  {
   "cell_type": "code",
   "execution_count": 3,
   "id": "c5810f88",
   "metadata": {},
   "outputs": [
    {
     "data": {
      "text/html": [
       "<div>\n",
       "<style scoped>\n",
       "    .dataframe tbody tr th:only-of-type {\n",
       "        vertical-align: middle;\n",
       "    }\n",
       "\n",
       "    .dataframe tbody tr th {\n",
       "        vertical-align: top;\n",
       "    }\n",
       "\n",
       "    .dataframe thead th {\n",
       "        text-align: right;\n",
       "    }\n",
       "</style>\n",
       "<table border=\"1\" class=\"dataframe\">\n",
       "  <thead>\n",
       "    <tr style=\"text-align: right;\">\n",
       "      <th></th>\n",
       "      <th>year_id</th>\n",
       "      <th>fran_id</th>\n",
       "      <th>avg_pts</th>\n",
       "      <th>avg_opp_pts</th>\n",
       "      <th>avg_elo_n</th>\n",
       "      <th>avg_opp_elo_n</th>\n",
       "    </tr>\n",
       "  </thead>\n",
       "  <tbody>\n",
       "    <tr>\n",
       "      <th>0</th>\n",
       "      <td>1995</td>\n",
       "      <td>Bucks</td>\n",
       "      <td>99.341463</td>\n",
       "      <td>103.707317</td>\n",
       "      <td>1368.604789</td>\n",
       "      <td>1497.311587</td>\n",
       "    </tr>\n",
       "    <tr>\n",
       "      <th>1</th>\n",
       "      <td>1995</td>\n",
       "      <td>Bulls</td>\n",
       "      <td>101.524390</td>\n",
       "      <td>96.695122</td>\n",
       "      <td>1569.892129</td>\n",
       "      <td>1488.199352</td>\n",
       "    </tr>\n",
       "    <tr>\n",
       "      <th>2</th>\n",
       "      <td>1995</td>\n",
       "      <td>Cavaliers</td>\n",
       "      <td>90.451220</td>\n",
       "      <td>89.829268</td>\n",
       "      <td>1542.433391</td>\n",
       "      <td>1498.848261</td>\n",
       "    </tr>\n",
       "    <tr>\n",
       "      <th>3</th>\n",
       "      <td>1995</td>\n",
       "      <td>Celtics</td>\n",
       "      <td>102.780488</td>\n",
       "      <td>104.658537</td>\n",
       "      <td>1431.307532</td>\n",
       "      <td>1495.936224</td>\n",
       "    </tr>\n",
       "    <tr>\n",
       "      <th>4</th>\n",
       "      <td>1995</td>\n",
       "      <td>Clippers</td>\n",
       "      <td>96.670732</td>\n",
       "      <td>105.829268</td>\n",
       "      <td>1309.053701</td>\n",
       "      <td>1517.260260</td>\n",
       "    </tr>\n",
       "  </tbody>\n",
       "</table>\n",
       "</div>"
      ],
      "text/plain": [
       "   year_id    fran_id     avg_pts  avg_opp_pts    avg_elo_n  avg_opp_elo_n\n",
       "0     1995      Bucks   99.341463   103.707317  1368.604789    1497.311587\n",
       "1     1995      Bulls  101.524390    96.695122  1569.892129    1488.199352\n",
       "2     1995  Cavaliers   90.451220    89.829268  1542.433391    1498.848261\n",
       "3     1995    Celtics  102.780488   104.658537  1431.307532    1495.936224\n",
       "4     1995   Clippers   96.670732   105.829268  1309.053701    1517.260260"
      ]
     },
     "execution_count": 3,
     "metadata": {},
     "output_type": "execute_result"
    }
   ],
   "source": [
    "nba_orig_df.head()"
   ]
  },
  {
   "cell_type": "code",
   "execution_count": 4,
   "id": "ee0d67c4",
   "metadata": {},
   "outputs": [],
   "source": [
    "# The team to be compared to: Chicago Bulls 1995-2015.\n",
    "\n",
    "years_df = nba_orig_df[(nba_orig_df['year_id'].between(1995, 2015))]\n",
    "compare_team_df = years_df[(years_df['fran_id']=='Bulls')]\n",
    "compare_team_df = compare_team_df.reset_index(drop=True)"
   ]
  },
  {
   "cell_type": "code",
   "execution_count": 5,
   "id": "aa5ea97f",
   "metadata": {},
   "outputs": [
    {
     "data": {
      "text/html": [
       "<table border=\"1\" class=\"dataframe\">\n",
       "  <thead>\n",
       "    <tr style=\"text-align: right;\">\n",
       "      <th></th>\n",
       "      <th>year_id</th>\n",
       "      <th>fran_id</th>\n",
       "      <th>avg_pts</th>\n",
       "      <th>avg_opp_pts</th>\n",
       "      <th>avg_elo_n</th>\n",
       "      <th>avg_opp_elo_n</th>\n",
       "    </tr>\n",
       "  </thead>\n",
       "  <tbody>\n",
       "    <tr>\n",
       "      <th>0</th>\n",
       "      <td>1995</td>\n",
       "      <td>Bulls</td>\n",
       "      <td>101.524390</td>\n",
       "      <td>96.695122</td>\n",
       "      <td>1569.892129</td>\n",
       "      <td>1488.199352</td>\n",
       "    </tr>\n",
       "    <tr>\n",
       "      <th>1</th>\n",
       "      <td>1996</td>\n",
       "      <td>Bulls</td>\n",
       "      <td>105.182927</td>\n",
       "      <td>92.939024</td>\n",
       "      <td>1728.695739</td>\n",
       "      <td>1474.171178</td>\n",
       "    </tr>\n",
       "    <tr>\n",
       "      <th>2</th>\n",
       "      <td>1997</td>\n",
       "      <td>Bulls</td>\n",
       "      <td>103.146342</td>\n",
       "      <td>92.341463</td>\n",
       "      <td>1788.967095</td>\n",
       "      <td>1479.699006</td>\n",
       "    </tr>\n",
       "    <tr>\n",
       "      <th>3</th>\n",
       "      <td>1998</td>\n",
       "      <td>Bulls</td>\n",
       "      <td>96.719512</td>\n",
       "      <td>89.609756</td>\n",
       "      <td>1701.735630</td>\n",
       "      <td>1487.644496</td>\n",
       "    </tr>\n",
       "    <tr>\n",
       "      <th>4</th>\n",
       "      <td>1999</td>\n",
       "      <td>Bulls</td>\n",
       "      <td>81.900000</td>\n",
       "      <td>91.360000</td>\n",
       "      <td>1496.791292</td>\n",
       "      <td>1520.258316</td>\n",
       "    </tr>\n",
       "  </tbody>\n",
       "</table>"
      ],
      "text/plain": [
       "<IPython.core.display.HTML object>"
      ]
     },
     "metadata": {},
     "output_type": "display_data"
    },
    {
     "name": "stdout",
     "output_type": "stream",
     "text": [
      "Number of rows in the data set = 21\n"
     ]
    }
   ],
   "source": [
    "# Check Bulls data\n",
    "\n",
    "display(HTML(compare_team_df.head().to_html()))\n",
    "print(\"Number of rows in the data set =\", len(compare_team_df))"
   ]
  },
  {
   "cell_type": "code",
   "execution_count": 6,
   "id": "bc8d0a9f",
   "metadata": {},
   "outputs": [],
   "source": [
    "# My team: Jazz 1995-2015\n",
    "\n",
    "my_years_df = nba_orig_df[(nba_orig_df['year_id'].between(1995, 2015))]\n",
    "my_team_df = my_years_df[(my_years_df['fran_id']=='Jazz')]\n",
    "my_team_df = my_team_df.reset_index(drop=True)"
   ]
  },
  {
   "cell_type": "code",
   "execution_count": 7,
   "id": "809d9a32",
   "metadata": {},
   "outputs": [
    {
     "data": {
      "text/html": [
       "<table border=\"1\" class=\"dataframe\">\n",
       "  <thead>\n",
       "    <tr style=\"text-align: right;\">\n",
       "      <th></th>\n",
       "      <th>year_id</th>\n",
       "      <th>fran_id</th>\n",
       "      <th>avg_pts</th>\n",
       "      <th>avg_opp_pts</th>\n",
       "      <th>avg_elo_n</th>\n",
       "      <th>avg_opp_elo_n</th>\n",
       "    </tr>\n",
       "  </thead>\n",
       "  <tbody>\n",
       "    <tr>\n",
       "      <th>0</th>\n",
       "      <td>1995</td>\n",
       "      <td>Jazz</td>\n",
       "      <td>106.414634</td>\n",
       "      <td>98.426829</td>\n",
       "      <td>1649.669379</td>\n",
       "      <td>1492.907237</td>\n",
       "    </tr>\n",
       "    <tr>\n",
       "      <th>1</th>\n",
       "      <td>1996</td>\n",
       "      <td>Jazz</td>\n",
       "      <td>102.487805</td>\n",
       "      <td>95.902439</td>\n",
       "      <td>1639.186684</td>\n",
       "      <td>1475.992338</td>\n",
       "    </tr>\n",
       "    <tr>\n",
       "      <th>2</th>\n",
       "      <td>1997</td>\n",
       "      <td>Jazz</td>\n",
       "      <td>103.097561</td>\n",
       "      <td>94.304878</td>\n",
       "      <td>1673.285011</td>\n",
       "      <td>1469.093416</td>\n",
       "    </tr>\n",
       "    <tr>\n",
       "      <th>3</th>\n",
       "      <td>1998</td>\n",
       "      <td>Jazz</td>\n",
       "      <td>100.963415</td>\n",
       "      <td>94.426829</td>\n",
       "      <td>1673.316002</td>\n",
       "      <td>1475.714854</td>\n",
       "    </tr>\n",
       "    <tr>\n",
       "      <th>4</th>\n",
       "      <td>1999</td>\n",
       "      <td>Jazz</td>\n",
       "      <td>93.320000</td>\n",
       "      <td>86.800000</td>\n",
       "      <td>1687.246034</td>\n",
       "      <td>1474.894568</td>\n",
       "    </tr>\n",
       "  </tbody>\n",
       "</table>"
      ],
      "text/plain": [
       "<IPython.core.display.HTML object>"
      ]
     },
     "metadata": {},
     "output_type": "display_data"
    },
    {
     "name": "stdout",
     "output_type": "stream",
     "text": [
      "Number of rows in the data set = 21\n"
     ]
    }
   ],
   "source": [
    "# Check Jazz data\n",
    "\n",
    "display(HTML(my_team_df.head().to_html()))\n",
    "print(\"Number of rows in the data set =\", len(my_team_df))"
   ]
  },
  {
   "cell_type": "code",
   "execution_count": 10,
   "id": "910e66e8",
   "metadata": {},
   "outputs": [
    {
     "data": {
      "image/png": "[encoded data removed]",
      "text/plain": [
       "<Figure size 432x288 with 1 Axes>"
      ]
     },
     "metadata": {
      "needs_background": "light"
     },
     "output_type": "display_data"
    },
    {
     "name": "stdout",
     "output_type": "stream",
     "text": [
      "\n"
     ]
    },
    {
     "data": {
      "image/png": "[encoded data removed]",
      "text/plain": [
       "<Figure size 432x288 with 1 Axes>"
      ]
     },
     "metadata": {
      "needs_background": "light"
     },
     "output_type": "display_data"
    }
   ],
   "source": [
    "# Visualize Jazz points data with a histogram and scatterplot\n",
    "\n",
    "import seaborn as sns\n",
    "\n",
    "# Histogram\n",
    "fig, ax = plt.subplots()\n",
    "plt.hist(my_team_df['avg_pts'], bins=20)\n",
    "plt.title('Histogram of average points scored by Jazz in 1995 to 2015', fontsize=18)\n",
    "ax.set_xlabel('Average Points')\n",
    "ax.set_ylabel('Frequency')\n",
    "plt.show()\n",
    "print(\"\")\n",
    "\n",
    "# Scatterplot\n",
    "plt.title('Scatterplot of average points scored by Jazz in 1995 to 2015', fontsize=18)\n",
    "sns.regplot(x=my_team_df['year_id'], y=my_team_df['avg_pts'], ci=None)\n",
    "plt.show()"
   ]
  },
  {
   "cell_type": "code",
   "execution_count": 11,
   "id": "d02935b8",
   "metadata": {},
   "outputs": [
    {
     "data": {
      "image/png": "[encoded data removed]",
      "text/plain": [
       "<Figure size 432x288 with 1 Axes>"
      ]
     },
     "metadata": {
      "needs_background": "light"
     },
     "output_type": "display_data"
    },
    {
     "name": "stdout",
     "output_type": "stream",
     "text": [
      "\n"
     ]
    },
    {
     "data": {
      "image/png": "[encoded data removed]",
      "text/plain": [
       "<Figure size 432x288 with 1 Axes>"
      ]
     },
     "metadata": {
      "needs_background": "light"
     },
     "output_type": "display_data"
    }
   ],
   "source": [
    "# Visualize Bulls points data with a histogram and scatterplot\n",
    "\n",
    "import seaborn as sns\n",
    "\n",
    "# Histogram\n",
    "fig, ax = plt.subplots()\n",
    "plt.hist(compare_team_df['avg_pts'], bins=20)\n",
    "plt.title('Histogram of average points scored by the Bulls in 1995 to 2015', fontsize=18)\n",
    "ax.set_xlabel('Average Points')\n",
    "ax.set_ylabel('Frequency')\n",
    "plt.show()\n",
    "print(\"\")\n",
    "\n",
    "# Scatterplot\n",
    "plt.title('Scatterplot of average points scored by the Bulls in 1995 to 2015', fontsize=18)\n",
    "sns.regplot(x=compare_team_df['year_id'], y=compare_team_df['avg_pts'], ci=None)\n",
    "plt.show()"
   ]
  },
  {
   "cell_type": "code",
   "execution_count": 12,
   "id": "cb24b211",
   "metadata": {},
   "outputs": [
    {
     "data": {
      "image/png": "[encoded data removed]",
      "text/plain": [
       "<Figure size 432x288 with 1 Axes>"
      ]
     },
     "metadata": {
      "needs_background": "light"
     },
     "output_type": "display_data"
    },
    {
     "name": "stdout",
     "output_type": "stream",
     "text": [
      "\n"
     ]
    },
    {
     "data": {
      "image/png": "[encoded data removed]",
      "text/plain": [
       "<Figure size 432x288 with 1 Axes>"
      ]
     },
     "metadata": {
      "needs_background": "light"
     },
     "output_type": "display_data"
    }
   ],
   "source": [
    "# Visualize the differences in point distribution\n",
    "\n",
    "import seaborn as sns\n",
    "\n",
    "# Side by side boxplots\n",
    "both_teams_df = pd.concat((compare_team_df, my_team_df))\n",
    "plt.title('Boxplot to compare average points distribution', fontsize=18)\n",
    "sns.boxplot(x='fran_id', y='avg_pts', data=both_teams_df)\n",
    "plt.show()\n",
    "print(\"\")\n",
    "\n",
    "#Histograms\n",
    "fig, ax = plt.subplots()\n",
    "plt.hist(compare_team_df['avg_pts'], 20, alpha=0.5, label='Bulls')\n",
    "plt.hist(my_team_df['avg_pts'], 20, alpha=0.5, label='Jazz')\n",
    "plt.title('Histogram to compare average points distribution', fontsize=18)\n",
    "plt.xlabel('Average Points')\n",
    "plt.legend(loc='upper right')\n",
    "plt.show()"
   ]
  },
  {
   "cell_type": "code",
   "execution_count": 13,
   "id": "1e138dad",
   "metadata": {},
   "outputs": [
    {
     "name": "stdout",
     "output_type": "stream",
     "text": [
      "Jazz Relative Skill in 1995 to 2015\n",
      "-----------------------------------------------------\n",
      "Mean = 1562.36\n",
      "Median = 1568.83\n",
      "Variance = 6959.69\n",
      "Standard Deviation = 83.42\n"
     ]
    }
   ],
   "source": [
    "# Calculate descriptive statistics on Jazz relative skill\n",
    "\n",
    "print(\"Jazz Relative Skill in 1995 to 2015\")\n",
    "print(\"-----------------------------------------------------\")\n",
    "\n",
    "mean = my_team_df['avg_elo_n'].mean()\n",
    "median = my_team_df['avg_elo_n'].median()\n",
    "variance = my_team_df['avg_elo_n'].var()\n",
    "stddev = my_team_df['avg_elo_n'].std()\n",
    "\n",
    "print('Mean =', round(mean, 2))\n",
    "print('Median =', round(median, 2))\n",
    "print('Variance =', round(variance, 2))\n",
    "print('Standard Deviation =', round(stddev, 2))"
   ]
  },
  {
   "cell_type": "code",
   "execution_count": 14,
   "id": "1242a25a",
   "metadata": {},
   "outputs": [
    {
     "name": "stdout",
     "output_type": "stream",
     "text": [
      "Bulls Relative Skill in 1995 to 2015\n",
      "-----------------------------------------------------\n",
      "Mean = 1511.75\n",
      "Median = 1498.25\n",
      "Variance = 20556.73\n",
      "Standard Deviation = 143.38\n"
     ]
    }
   ],
   "source": [
    "# Calculate descriptive statistics on the Bulls relative skill\n",
    "\n",
    "print(\"Bulls Relative Skill in 1995 to 2015\")\n",
    "print(\"-----------------------------------------------------\")\n",
    "\n",
    "mean = compare_team_df['avg_elo_n'].mean()\n",
    "median = compare_team_df['avg_elo_n'].median()\n",
    "variance = compare_team_df['avg_elo_n'].var()\n",
    "stddev = compare_team_df['avg_elo_n'].std()\n",
    "\n",
    "print('Mean =', round(mean, 2))\n",
    "print('Median =', round(median, 2))\n",
    "print('Variance =', round(variance, 2))\n",
    "print('Standard Deviation =', round(stddev, 2))"
   ]
  },
  {
   "cell_type": "code",
   "execution_count": 17,
   "id": "5d6f3c94",
   "metadata": {},
   "outputs": [
    {
     "name": "stdout",
     "output_type": "stream",
     "text": [
      "Confidence Interval for Average Relative Skill (ELO) in 1995 to 2015\n",
      "--------------------------------------------------------------------------------------------\n",
      "95% confidence interval (unrounded) for ELO in 1995 to 2015 = (1491.6629511769456, 1508.360540751858)\n",
      "95% confidence interval (rounded) for ELO in 1995 to 2015 = ( 1491.66 , 1508.36 )\n",
      "\n",
      "\n",
      "Probability a team has an ELO LESS than the ELO of Jazz in 1995 to 2015\n",
      "--------------------------------------------------------------------------------------------\n",
      "72.2 %\n",
      "\n",
      "There is a 72.2% chance that a chosen team will have a lower ELO than Jazz\n",
      "We can see this by comparing their average ELO to the Confidence Interval\n",
      "Jazz: 1562\n",
      "All: 1500\n"
     ]
    }
   ],
   "source": [
    "# Confidence intervals for the Average Relative Skill of All Teams\n",
    "# Confidence intervals give a range of values in which the estimated true population parameter exists\n",
    "\n",
    "print(\"Confidence Interval for Average Relative Skill (ELO) in 1995 to 2015\")\n",
    "print(\"--------------------------------------------------------------------------------------------\")\n",
    "\n",
    "# Mean relative skill of all teams\n",
    "mean = my_years_df['avg_elo_n'].mean()\n",
    "\n",
    "# Std Dev of the relative skill of all teams\n",
    "stddev = my_years_df['avg_elo_n'].std()\n",
    "\n",
    "n = len(my_years_df)\n",
    "\n",
    "# Confidence Interval\n",
    "stderr = stddev/(n ** 0.5)\n",
    "conf_int = st.norm.interval(0.95, mean, stderr)\n",
    "\n",
    "print(\"95% confidence interval (unrounded) for ELO in 1995 to 2015 =\", conf_int)\n",
    "print(\"95% confidence interval (rounded) for ELO in 1995 to 2015 = (\", round(conf_int[0], 2),\",\", round(conf_int[1], 2), \")\")\n",
    "\n",
    "print(\"\\n\")\n",
    "print(\"Probability a team has an ELO LESS than the ELO of Jazz in 1995 to 2015\")\n",
    "print(\"--------------------------------------------------------------------------------------------\")\n",
    "\n",
    "my_mean_elo = my_team_df['avg_elo_n'].mean()\n",
    "\n",
    "#choice1 = st.norm.sf(my_mean_elo, mean, stddev)\n",
    "choice2 = st.norm.cdf(my_mean_elo, mean, stddev)\n",
    "\n",
    "#print(\"Python uses 2 different ways to calculate Normal distribution:\")\n",
    "#print(\"Choice 1 =\", round(choice1, 4))\n",
    "print(round(choice2, 4)*100, \"%\")\n",
    "print(\"\\nThere is a 72.2% chance that a chosen team will have a lower ELO than Jazz\")\n",
    "print(\"We can see this by comparing their average ELO to the Confidence Interval\")\n",
    "print(\"Jazz: 1562\")\n",
    "print(\"All: 1500\")"
   ]
  }
 ],
 "metadata": {
  "kernelspec": {
   "display_name": "Python 3 (ipykernel)",
   "language": "python",
   "name": "python3"
  },
  "language_info": {
   "codemirror_mode": {
    "name": "ipython",
    "version": 3
   },
   "file_extension": ".py",
   "mimetype": "text/x-python",
   "name": "python",
   "nbconvert_exporter": "python",
   "pygments_lexer": "ipython3",
   "version": "3.9.12"
  }
 },
 "nbformat": 4,
 "nbformat_minor": 5
}
