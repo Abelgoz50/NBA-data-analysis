{
 "cells": [
  {
   "cell_type": "code",
   "execution_count": 1,
   "id": "d5dccc58",
   "metadata": {},
   "outputs": [
    {
     "data": {
      "text/html": [
       "<table border=\"1\" class=\"dataframe\">\n",
       "  <thead>\n",
       "    <tr style=\"text-align: right;\">\n",
       "      <th></th>\n",
       "      <th>year_id</th>\n",
       "      <th>fran_id</th>\n",
       "      <th>avg_pts</th>\n",
       "      <th>avg_opp_pts</th>\n",
       "      <th>avg_elo_n</th>\n",
       "      <th>avg_opp_elo_n</th>\n",
       "    </tr>\n",
       "  </thead>\n",
       "  <tbody>\n",
       "    <tr>\n",
       "      <th>0</th>\n",
       "      <td>1995</td>\n",
       "      <td>Bulls</td>\n",
       "      <td>101.524390</td>\n",
       "      <td>96.695122</td>\n",
       "      <td>1569.892129</td>\n",
       "      <td>1488.199352</td>\n",
       "    </tr>\n",
       "    <tr>\n",
       "      <th>1</th>\n",
       "      <td>1996</td>\n",
       "      <td>Bulls</td>\n",
       "      <td>105.182927</td>\n",
       "      <td>92.939024</td>\n",
       "      <td>1728.695739</td>\n",
       "      <td>1474.171178</td>\n",
       "    </tr>\n",
       "    <tr>\n",
       "      <th>2</th>\n",
       "      <td>1997</td>\n",
       "      <td>Bulls</td>\n",
       "      <td>103.146342</td>\n",
       "      <td>92.341463</td>\n",
       "      <td>1788.967095</td>\n",
       "      <td>1479.699006</td>\n",
       "    </tr>\n",
       "    <tr>\n",
       "      <th>3</th>\n",
       "      <td>1998</td>\n",
       "      <td>Bulls</td>\n",
       "      <td>96.719512</td>\n",
       "      <td>89.609756</td>\n",
       "      <td>1701.735630</td>\n",
       "      <td>1487.644496</td>\n",
       "    </tr>\n",
       "    <tr>\n",
       "      <th>4</th>\n",
       "      <td>1999</td>\n",
       "      <td>Bulls</td>\n",
       "      <td>81.900000</td>\n",
       "      <td>91.360000</td>\n",
       "      <td>1496.791292</td>\n",
       "      <td>1520.258316</td>\n",
       "    </tr>\n",
       "  </tbody>\n",
       "</table>"
      ],
      "text/plain": [
       "<IPython.core.display.HTML object>"
      ]
     },
     "metadata": {},
     "output_type": "display_data"
    },
    {
     "name": "stdout",
     "output_type": "stream",
     "text": [
      "Number of rows in the data set = 21\n"
     ]
    }
   ],
   "source": [
    "# Import necessary libraries\n",
    "\n",
    "import numpy as np\n",
    "import pandas as pd\n",
    "import scipy.stats as st\n",
    "import matplotlib.pyplot as plt\n",
    "from IPython.display import display, HTML\n",
    "\n",
    "# Import and format data\n",
    "\n",
    "nba_df = pd.read_csv(r'C:\\Users\\abelg\\Documents\\Programs\\SQL\\SSMS\\SQL NBA analysis project\\NBAdatacleaned.csv')\n",
    "columns_to_keep = ['year_id', 'fran_id', 'avg_pts', 'avg_opp_pts', 'avg_elo_n', 'avg_opp_elo_n']\n",
    "nba_df = nba_df[columns_to_keep]\n",
    "\n",
    "# The Bulls will be our comparison team\n",
    "# Format Bulls data\n",
    "\n",
    "years_df = nba_df[(nba_df['year_id'].between(1995, 2015))]\n",
    "bulls_df = years_df[(years_df['fran_id']=='Bulls')]\n",
    "bulls_df = bulls_df.reset_index(drop=True)\n",
    "\n",
    "display(HTML(bulls_df.head().to_html()))\n",
    "print(\"Number of rows in the data set =\", len(bulls_df))"
   ]
  },
  {
   "cell_type": "code",
   "execution_count": 2,
   "id": "e51bed19",
   "metadata": {},
   "outputs": [
    {
     "data": {
      "text/html": [
       "<table border=\"1\" class=\"dataframe\">\n",
       "  <thead>\n",
       "    <tr style=\"text-align: right;\">\n",
       "      <th></th>\n",
       "      <th>year_id</th>\n",
       "      <th>fran_id</th>\n",
       "      <th>avg_pts</th>\n",
       "      <th>avg_opp_pts</th>\n",
       "      <th>avg_elo_n</th>\n",
       "      <th>avg_opp_elo_n</th>\n",
       "    </tr>\n",
       "  </thead>\n",
       "  <tbody>\n",
       "    <tr>\n",
       "      <th>0</th>\n",
       "      <td>1995</td>\n",
       "      <td>Jazz</td>\n",
       "      <td>106.414634</td>\n",
       "      <td>98.426829</td>\n",
       "      <td>1649.669379</td>\n",
       "      <td>1492.907237</td>\n",
       "    </tr>\n",
       "    <tr>\n",
       "      <th>1</th>\n",
       "      <td>1996</td>\n",
       "      <td>Jazz</td>\n",
       "      <td>102.487805</td>\n",
       "      <td>95.902439</td>\n",
       "      <td>1639.186684</td>\n",
       "      <td>1475.992338</td>\n",
       "    </tr>\n",
       "    <tr>\n",
       "      <th>2</th>\n",
       "      <td>1997</td>\n",
       "      <td>Jazz</td>\n",
       "      <td>103.097561</td>\n",
       "      <td>94.304878</td>\n",
       "      <td>1673.285011</td>\n",
       "      <td>1469.093416</td>\n",
       "    </tr>\n",
       "    <tr>\n",
       "      <th>3</th>\n",
       "      <td>1998</td>\n",
       "      <td>Jazz</td>\n",
       "      <td>100.963415</td>\n",
       "      <td>94.426829</td>\n",
       "      <td>1673.316002</td>\n",
       "      <td>1475.714854</td>\n",
       "    </tr>\n",
       "    <tr>\n",
       "      <th>4</th>\n",
       "      <td>1999</td>\n",
       "      <td>Jazz</td>\n",
       "      <td>93.320000</td>\n",
       "      <td>86.800000</td>\n",
       "      <td>1687.246034</td>\n",
       "      <td>1474.894568</td>\n",
       "    </tr>\n",
       "  </tbody>\n",
       "</table>"
      ],
      "text/plain": [
       "<IPython.core.display.HTML object>"
      ]
     },
     "metadata": {},
     "output_type": "display_data"
    },
    {
     "name": "stdout",
     "output_type": "stream",
     "text": [
      "Number of rows in the data set = 21\n"
     ]
    }
   ],
   "source": [
    "# Jazz is our team\n",
    "# Format Jazz data\n",
    "\n",
    "years_df = nba_df[(nba_df['year_id'].between(1995, 2015))]\n",
    "jazz_df = years_df[(years_df['fran_id']=='Jazz')]\n",
    "jazz_df = jazz_df.reset_index(drop=True)\n",
    "\n",
    "display(HTML(jazz_df.head().to_html()))\n",
    "print(\"Number of rows in the data set =\", len(jazz_df))"
   ]
  },
  {
   "cell_type": "code",
   "execution_count": 3,
   "id": "9f376faa",
   "metadata": {},
   "outputs": [
    {
     "name": "stdout",
     "output_type": "stream",
     "text": [
      "Mean ELO of Jazz in 1995 to 2015 = 1562.36\n",
      "Hypothesis Test for the Population Mean\n",
      "Test Statistic = 7.82\n",
      "P-value = 0.0\n"
     ]
    }
   ],
   "source": [
    "# Hypothesis Test for the Population Mean (I)\n",
    "\n",
    "import scipy.stats as st\n",
    "\n",
    "# Mean ELO of Jazz\n",
    "jazz_mean_elo = jazz_df['avg_elo_n'].mean()\n",
    "print(\"Mean ELO of Jazz in 1995 to 2015 =\", round(jazz_mean_elo, 2))\n",
    "\n",
    "# Hypothesis Test\n",
    "# An ELO of 1420 is considered a critically low level and will be used for this calculation\n",
    "test_stat, p_value = st.ttest_1samp(jazz_df['avg_elo_n'], 1420)\n",
    "\n",
    "print(\"Hypothesis Test for the Population Mean\")\n",
    "print(\"Test Statistic =\", round(test_stat, 2))\n",
    "print(\"P-value =\", round(p_value, 4))"
   ]
  },
  {
   "cell_type": "code",
   "execution_count": 4,
   "id": "621d3107",
   "metadata": {},
   "outputs": [
    {
     "name": "stdout",
     "output_type": "stream",
     "text": [
      "Mean average points scored by Jazz in 1995 to 2015 = 98.44\n",
      "Hypothesis Test for the Population Mean Average Points Scored\n",
      "Test Statistic = -10.84\n",
      "P-value = 0.0\n"
     ]
    }
   ],
   "source": [
    "# Hypothesis Test for the Population Mean (II)\n",
    "\n",
    "import scipy.stats as st\n",
    "\n",
    "# Mean average points scored by Jazz\n",
    "jazz_mean_pts = jazz_df['avg_pts'].mean()\n",
    "print(\"Mean average points scored by Jazz in 1995 to 2015 =\", round(jazz_mean_pts, 2))\n",
    "\n",
    "# Hypothesis Test\n",
    "# Averaging 110 points is considered a good level and will be used for this calculation\n",
    "test_stat, p_value = st.ttest_1samp(jazz_df['avg_pts'], 110)\n",
    "\n",
    "print(\"Hypothesis Test for the Population Mean Average Points Scored\")\n",
    "print(\"Test Statistic =\", round(test_stat, 2))\n",
    "print(\"P-value =\", round(p_value, 4))"
   ]
  },
  {
   "cell_type": "code",
   "execution_count": 5,
   "id": "9d6ec5a6",
   "metadata": {},
   "outputs": [
    {
     "name": "stdout",
     "output_type": "stream",
     "text": [
      "Mean Average ELO of the Bulls in 1995 to 2015 = 1511.75\n",
      "Mean Average ELO of Jazz in 1995 to 2015 = 1562.36\n",
      "Hypothesis Test for the Difference between Two Population Means\n",
      "Test Statistic = -1.4\n",
      "P-value = 0.1698\n"
     ]
    }
   ],
   "source": [
    "# Hypothesis Test for the Difference between Two Population Means\n",
    "\n",
    "import scipy.stats as st\n",
    "\n",
    "bulls_mean_elo = bulls_df['avg_elo_n'].mean()\n",
    "print(\"Mean Average ELO of the Bulls in 1995 to 2015 =\", round(bulls_mean_elo, 2))\n",
    "\n",
    "jazz_mean_elo = jazz_df['avg_elo_n'].mean()\n",
    "print(\"Mean Average ELO of Jazz in 1995 to 2015 =\", round(jazz_mean_elo, 2))\n",
    "\n",
    "# Hypothesis Test\n",
    "test_stat, p_value = st.ttest_ind(bulls_df['avg_elo_n'], jazz_df['avg_elo_n'])\n",
    "\n",
    "print(\"Hypothesis Test for the Difference between Two Population Means\")\n",
    "print(\"Test Statistic =\", round(test_stat, 2))\n",
    "print(\"P-value =\", round(p_value, 4))"
   ]
  }
 ],
 "metadata": {
  "kernelspec": {
   "display_name": "Python 3 (ipykernel)",
   "language": "python",
   "name": "python3"
  },
  "language_info": {
   "codemirror_mode": {
    "name": "ipython",
    "version": 3
   },
   "file_extension": ".py",
   "mimetype": "text/x-python",
   "name": "python",
   "nbconvert_exporter": "python",
   "pygments_lexer": "ipython3",
   "version": "3.9.12"
  }
 },
 "nbformat": 4,
 "nbformat_minor": 5
}
